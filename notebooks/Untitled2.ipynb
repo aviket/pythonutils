{
 "cells": [
  {
   "cell_type": "code",
   "execution_count": 2,
   "metadata": {},
   "outputs": [],
   "source": [
    "import pygetwindow as gw"
   ]
  },
  {
   "cell_type": "code",
   "execution_count": 3,
   "metadata": {},
   "outputs": [
    {
     "data": {
      "text/plain": [
       "[Win32Window(hWnd=65714),\n",
       " Win32Window(hWnd=67090),\n",
       " Win32Window(hWnd=853562),\n",
       " Win32Window(hWnd=132814),\n",
       " Win32Window(hWnd=198306),\n",
       " Win32Window(hWnd=66104),\n",
       " Win32Window(hWnd=67462),\n",
       " Win32Window(hWnd=67416),\n",
       " Win32Window(hWnd=132750),\n",
       " Win32Window(hWnd=67346),\n",
       " Win32Window(hWnd=132728),\n",
       " Win32Window(hWnd=67330),\n",
       " Win32Window(hWnd=132410),\n",
       " Win32Window(hWnd=458922),\n",
       " Win32Window(hWnd=132246),\n",
       " Win32Window(hWnd=1639344),\n",
       " Win32Window(hWnd=590928),\n",
       " Win32Window(hWnd=1049588),\n",
       " Win32Window(hWnd=2295062),\n",
       " Win32Window(hWnd=984524),\n",
       " Win32Window(hWnd=132552),\n",
       " Win32Window(hWnd=3867654),\n",
       " Win32Window(hWnd=394798),\n",
       " Win32Window(hWnd=66200),\n",
       " Win32Window(hWnd=66068),\n",
       " Win32Window(hWnd=65878),\n",
       " Win32Window(hWnd=65884),\n",
       " Win32Window(hWnd=65854),\n",
       " Win32Window(hWnd=131160),\n",
       " Win32Window(hWnd=524372),\n",
       " Win32Window(hWnd=328698),\n",
       " Win32Window(hWnd=460164),\n",
       " Win32Window(hWnd=66054),\n",
       " Win32Window(hWnd=4654576),\n",
       " Win32Window(hWnd=1902490),\n",
       " Win32Window(hWnd=1508356),\n",
       " Win32Window(hWnd=460772),\n",
       " Win32Window(hWnd=131342)]"
      ]
     },
     "execution_count": 3,
     "metadata": {},
     "output_type": "execute_result"
    }
   ],
   "source": [
    "gw.getAllWindows()"
   ]
  },
  {
   "cell_type": "code",
   "execution_count": 4,
   "metadata": {},
   "outputs": [
    {
     "data": {
      "text/plain": [
       "[Win32Window(hWnd=67090), Win32Window(hWnd=460164)]"
      ]
     },
     "execution_count": 4,
     "metadata": {},
     "output_type": "execute_result"
    }
   ],
   "source": [
    "gw.getWindowsWithTitle('Untitled')"
   ]
  },
  {
   "cell_type": "code",
   "execution_count": 6,
   "metadata": {},
   "outputs": [
    {
     "data": {
      "text/plain": [
       "['BaseWindow',\n",
       " 'Point',\n",
       " 'PyGetWindowException',\n",
       " 'Rect',\n",
       " 'Size',\n",
       " 'Win32Window',\n",
       " 'Window',\n",
       " '__builtins__',\n",
       " '__cached__',\n",
       " '__doc__',\n",
       " '__file__',\n",
       " '__loader__',\n",
       " '__name__',\n",
       " '__package__',\n",
       " '__path__',\n",
       " '__spec__',\n",
       " '__version__',\n",
       " '_pygetwindow_win',\n",
       " 'collections',\n",
       " 'getActiveWindow',\n",
       " 'getActiveWindowTitle',\n",
       " 'getAllTitles',\n",
       " 'getAllWindows',\n",
       " 'getWindowsAt',\n",
       " 'getWindowsWithTitle',\n",
       " 'pointInRect',\n",
       " 'pyrect',\n",
       " 'sys']"
      ]
     },
     "execution_count": 6,
     "metadata": {},
     "output_type": "execute_result"
    }
   ],
   "source": [
    "dir(gw)"
   ]
  },
  {
   "cell_type": "code",
   "execution_count": 8,
   "metadata": {},
   "outputs": [],
   "source": [
    "wnds = gw.getAllWindows()\n",
    "for wnd in wnds:\n",
    "    wnd.minimize()"
   ]
  },
  {
   "cell_type": "code",
   "execution_count": 11,
   "metadata": {},
   "outputs": [
    {
     "data": {
      "text/plain": [
       "['',\n",
       " 'Untitled2 - Jupyter Notebook - Google Chrome',\n",
       " 'GitHub Desktop',\n",
       " '',\n",
       " 'C:\\\\WINDOWS\\\\System32\\\\cmd.exe',\n",
       " '*Untitled - Notepad',\n",
       " '(99,302 unread) - ketkaravinash@yahoo.com - Yahoo Mail and 1 more page \\u200e- Microsoft Edge',\n",
       " 'AVG Secure VPN',\n",
       " 'Manzil (1960) - Chupke Se Mile Pyaase Pyaase - Mohd.Rafi & Geeta Dutt.mp4 - VLC media player',\n",
       " 'makh - hindi songs',\n",
       " 'Administrator: Command Prompt',\n",
       " 'Microsoft Edge',\n",
       " 'Microsoft Edge',\n",
       " 'Microsoft Edge',\n",
       " 'Microsoft Edge',\n",
       " 'Microsoft Edge',\n",
       " 'Microsoft Edge',\n",
       " 'Microsoft Edge',\n",
       " 'Microsoft Edge',\n",
       " 'Microsoft Edge',\n",
       " 'Microsoft Edge',\n",
       " '',\n",
       " 'Microsoft Store',\n",
       " 'Microsoft Store',\n",
       " 'Microsoft Text Input Application',\n",
       " 'Microsoft Edge',\n",
       " '',\n",
       " '',\n",
       " '',\n",
       " '',\n",
       " '',\n",
       " 'Program Manager']"
      ]
     },
     "execution_count": 11,
     "metadata": {},
     "output_type": "execute_result"
    }
   ],
   "source": [
    "gw.getAllTitles()"
   ]
  },
  {
   "cell_type": "code",
   "execution_count": null,
   "metadata": {},
   "outputs": [],
   "source": []
  }
 ],
 "metadata": {
  "kernelspec": {
   "display_name": "Python 3",
   "language": "python",
   "name": "python3"
  },
  "language_info": {
   "codemirror_mode": {
    "name": "ipython",
    "version": 3
   },
   "file_extension": ".py",
   "mimetype": "text/x-python",
   "name": "python",
   "nbconvert_exporter": "python",
   "pygments_lexer": "ipython3",
   "version": "3.7.4"
  }
 },
 "nbformat": 4,
 "nbformat_minor": 4
}
