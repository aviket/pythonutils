{
 "cells": [
  {
   "cell_type": "code",
   "execution_count": 2,
   "metadata": {},
   "outputs": [],
   "source": [
    "import warnings\n",
    "#supressing warning\n",
    "\n",
    "def fxn():\n",
    "    warnings.warn(\"deprecated\", DeprecationWarning)\n",
    "\n",
    "with warnings.catch_warnings():\n",
    "    warnings.simplefilter(\"ignore\")\n",
    "    fxn()"
   ]
  },
  {
   "cell_type": "code",
   "execution_count": 4,
   "metadata": {},
   "outputs": [],
   "source": [
    "import warnings\n",
    "\n",
    "def fxn():\n",
    "    warnings.warn(\"deprecated\", DeprecationWarning)\n",
    "\n",
    "with warnings.catch_warnings(record=True) as w:\n",
    "    # Cause all warnings to always be triggered.\n",
    "    warnings.simplefilter(\"always\")\n",
    "    # Trigger a warning.\n",
    "    fxn()\n",
    "    # Verify some things\n",
    "    assert len(w) == 1\n",
    "    assert issubclass(w[-1].category, DeprecationWarning)\n",
    "    assert \"deprecated\" in str(w[-1].message)"
   ]
  },
  {
   "cell_type": "code",
   "execution_count": 6,
   "metadata": {},
   "outputs": [
    {
     "name": "stderr",
     "output_type": "stream",
     "text": [
      "C:\\Users\\avinash\\AppData\\Local\\Programs\\Python\\Python37\\lib\\site-packages\\ipykernel_launcher.py:1: UserWarning: Warning\n",
      "  \"\"\"Entry point for launching an IPython kernel.\n"
     ]
    }
   ],
   "source": [
    "warnings.warn(\"Warning\")"
   ]
  },
  {
   "cell_type": "code",
   "execution_count": 8,
   "metadata": {},
   "outputs": [
    {
     "name": "stdout",
     "output_type": "stream",
     "text": [
      "Before the warning\n",
      "After the warning\n"
     ]
    },
    {
     "name": "stderr",
     "output_type": "stream",
     "text": [
      "C:\\Users\\avinash\\AppData\\Local\\Programs\\Python\\Python37\\lib\\site-packages\\ipykernel_launcher.py:4: UserWarning: This is a warning message\n",
      "  after removing the cwd from sys.path.\n"
     ]
    }
   ],
   "source": [
    "import warnings\n",
    "#https://pymotw.com/2/warnings/\n",
    "print ('Before the warning')\n",
    "warnings.warn('This is a warning message')\n",
    "print ('After the warning')"
   ]
  },
  {
   "cell_type": "code",
   "execution_count": 9,
   "metadata": {},
   "outputs": [
    {
     "name": "stderr",
     "output_type": "stream",
     "text": [
      "C:\\Users\\avinash\\AppData\\Local\\Programs\\Python\\Python37\\lib\\site-packages\\ipykernel_launcher.py:5: UserWarning: Show this message\n",
      "  \"\"\"\n"
     ]
    }
   ],
   "source": [
    "import warnings\n",
    "# filtering warning with pattern\n",
    "#https://pymotw.com/2/warnings/\n",
    "warnings.filterwarnings('ignore', '.*do not.*',)\n",
    "\n",
    "warnings.warn('Show this message')\n",
    "warnings.warn('Do not show this message')"
   ]
  },
  {
   "cell_type": "code",
   "execution_count": 10,
   "metadata": {},
   "outputs": [
    {
     "name": "stderr",
     "output_type": "stream",
     "text": [
      "C:\\Users\\avinash\\AppData\\Local\\Programs\\Python\\Python37\\lib\\site-packages\\ipykernel_launcher.py:4: UserWarning: This is a warning!\n",
      "  after removing the cwd from sys.path.\n"
     ]
    }
   ],
   "source": [
    "import warnings\n",
    "#repeated warnings are not shown\n",
    "#https://pymotw.com/2/warnings/\n",
    "def function_with_warning():\n",
    "    warnings.warn('This is a warning!')\n",
    "    \n",
    "function_with_warning()\n",
    "function_with_warning()\n",
    "function_with_warning()"
   ]
  },
  {
   "cell_type": "code",
   "execution_count": 17,
   "metadata": {},
   "outputs": [
    {
     "name": "stderr",
     "output_type": "stream",
     "text": [
      "C:\\Users\\avinash\\AppData\\Local\\Programs\\Python\\Python37\\lib\\site-packages\\ipykernel_launcher.py:6: UserWarning: old_function() is deprecated, use new_function() instead\n",
      "  \n"
     ]
    }
   ],
   "source": [
    "import warnings\n",
    "# warning with stack level\n",
    "def old_function():\n",
    "    warnings.warn(\n",
    "        'old_function() is deprecated, use new_function() instead', \n",
    "        stacklevel=0)\n",
    "\n",
    "def caller_of_old_function():\n",
    "    old_function()\n",
    "    \n",
    "def caller_of_old_function1():\n",
    "    caller_of_old_function()\n",
    "    \n",
    "\n",
    "    \n",
    "caller_of_old_function1()"
   ]
  },
  {
   "cell_type": "code",
   "execution_count": null,
   "metadata": {},
   "outputs": [],
   "source": []
  }
 ],
 "metadata": {
  "kernelspec": {
   "display_name": "Python 3",
   "language": "python",
   "name": "python3"
  },
  "language_info": {
   "codemirror_mode": {
    "name": "ipython",
    "version": 3
   },
   "file_extension": ".py",
   "mimetype": "text/x-python",
   "name": "python",
   "nbconvert_exporter": "python",
   "pygments_lexer": "ipython3",
   "version": "3.7.4"
  }
 },
 "nbformat": 4,
 "nbformat_minor": 4
}
